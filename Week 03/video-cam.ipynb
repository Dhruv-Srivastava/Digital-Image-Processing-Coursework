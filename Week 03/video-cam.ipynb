{
 "cells": [
  {
   "cell_type": "markdown",
   "metadata": {},
   "source": [
    "### Dependencies"
   ]
  },
  {
   "cell_type": "code",
   "execution_count": 2,
   "metadata": {},
   "outputs": [],
   "source": [
    "import cv2 as cv"
   ]
  },
  {
   "cell_type": "markdown",
   "metadata": {},
   "source": [
    "### Video Cam"
   ]
  },
  {
   "cell_type": "code",
   "execution_count": 9,
   "metadata": {},
   "outputs": [],
   "source": [
    "def open_cam(text=False):\n",
    "\n",
    "    cam = cv.VideoCapture(0)\n",
    "\n",
    "    if not cam:\n",
    "        print(\"Can't connect to the camera\")\n",
    "        exit()\n",
    "\n",
    "    while True:\n",
    "        _,frame = cam.read()\n",
    "        if not _:\n",
    "            print(\"Can't retreive frame.\")\n",
    "            break\n",
    "        \n",
    "        # Convert into grayscale\n",
    "        frame = cv.cvtColor(frame, cv.COLOR_BGR2GRAY)\n",
    "        \n",
    "        # Flip the frame horizontally\n",
    "        frame = cv.flip(frame, 1)\n",
    "        \n",
    "        if text:\n",
    "            height,width = frame.shape\n",
    "            frame = cv.putText(frame, text, (int(width/2)-50,int(height/2)),cv.FONT_HERSHEY_SIMPLEX,1,(255,255,255),1,cv.LINE_AA)\n",
    "        \n",
    "        # Display the frame\n",
    "        cv.imshow(\"Hello :)\", frame)\n",
    "        \n",
    "        k = cv.waitKey(1)\n",
    "        if k%256 == 27:\n",
    "            # ESC pressed\n",
    "            print(\"Escape hit, closing...\")\n",
    "            break\n",
    "\n",
    "    cam.release()\n",
    "    cv.destroyAllWindows()"
   ]
  },
  {
   "cell_type": "code",
   "execution_count": 11,
   "metadata": {},
   "outputs": [
    {
     "name": "stdout",
     "output_type": "stream",
     "text": [
      "Escape hit, closing...\n"
     ]
    }
   ],
   "source": [
    "choice = None\n",
    "while(choice is None or (choice.lower() != \"yes\" and choice.lower() != \"no\")):\n",
    "    if(choice is not None):\n",
    "        print(\"Invalid choice. Type yes or no only.\")\n",
    "        \n",
    "    choice = input(\"Do you want to put text on the image? Type yes or no.\")\n",
    "\n",
    "if(choice == \"yes\"):\n",
    "    text = input(\"Enter the text you wanna put on the video.\")\n",
    "    open_cam(text)\n",
    "else:\n",
    "    open_cam()\n"
   ]
  }
 ],
 "metadata": {
  "kernelspec": {
   "display_name": "base",
   "language": "python",
   "name": "python3"
  },
  "language_info": {
   "codemirror_mode": {
    "name": "ipython",
    "version": 3
   },
   "file_extension": ".py",
   "mimetype": "text/x-python",
   "name": "python",
   "nbconvert_exporter": "python",
   "pygments_lexer": "ipython3",
   "version": "3.11.3"
  }
 },
 "nbformat": 4,
 "nbformat_minor": 2
}
